{
 "cells": [
  {
   "cell_type": "markdown",
   "metadata": {},
   "source": [
    "# generate DSEC-Soft GT-labelme"
   ]
  },
  {
   "cell_type": "markdown",
   "metadata": {},
   "source": [
    "```\n",
    "生成 labelme 格式 label\n",
    "\n",
    "python demo/image_demo.py demo/demo.jpg \\\n",
    "    detection/config/yolov8_s_mask-refine_syncbn_fast_8xb16-500e_coco.py \\\n",
    "    detection/checkpoint/yolov8_s_mask-refine_syncbn_fast_8xb16-500e_coco_20230216_095938-ce3c1b3f.pth \\\n",
    "    --out-dir DESC-Soft/test \\\n",
    "    --class-name car \\\n",
    "    --to-labelme\n",
    "```"
   ]
  },
  {
   "cell_type": "markdown",
   "metadata": {},
   "source": [
    "## import"
   ]
  },
  {
   "cell_type": "code",
   "execution_count": 1,
   "metadata": {},
   "outputs": [
    {
     "name": "stdout",
     "output_type": "stream",
     "text": [
      "/home/jiangtianbin/mmyolo\n"
     ]
    }
   ],
   "source": [
    "%cd ~/mmyolo/\n",
    "\n",
    "from pathlib import Path\n",
    "import json\n",
    "\n",
    "import math\n",
    "import numpy as np\n",
    "import cv2\n",
    "import matplotlib.pyplot as plt\n",
    "import time\n",
    "\n",
    "import mmcv\n",
    "from mmcv.transforms import Compose\n",
    "from mmdet.apis import inference_detector, init_detector\n",
    "from mmengine.utils import track_iter_progress\n",
    "\n",
    "from mmyolo.registry import VISUALIZERS\n"
   ]
  },
  {
   "cell_type": "markdown",
   "metadata": {},
   "source": [
    "## path config"
   ]
  },
  {
   "cell_type": "code",
   "execution_count": 2,
   "metadata": {},
   "outputs": [],
   "source": [
    "ann_base_path = Path('/home/jiangtianbin/event-rgb-fusion/DSEC_detection_labels')\n",
    "ann_train_path = ann_base_path / Path('train_ann.json')\n",
    "ann_test_path = ann_base_path / Path('test_ann.json')\n",
    "ann_val_path = ann_base_path / Path('val_ann.json')"
   ]
  },
  {
   "cell_type": "markdown",
   "metadata": {},
   "source": [
    "## show all sequences"
   ]
  },
  {
   "cell_type": "code",
   "execution_count": 3,
   "metadata": {},
   "outputs": [
    {
     "name": "stdout",
     "output_type": "stream",
     "text": [
      "{'zurich_city_09_a', 'zurich_city_02_a', 'thun_00_a', 'zurich_city_09_c', 'zurich_city_01_c', 'zurich_city_00_b', 'zurich_city_05_a', 'zurich_city_11_a', 'zurich_city_03_a', 'zurich_city_10_a', 'zurich_city_11_b', 'interlaken_00_f', 'zurich_city_08_a', 'zurich_city_06_a', 'zurich_city_09_e', 'zurich_city_01_b', 'zurich_city_04_f', 'interlaken_00_e', 'zurich_city_01_d', 'zurich_city_09_d', 'zurich_city_02_d', 'zurich_city_04_b', 'interlaken_00_d', 'zurich_city_10_b', 'zurich_city_02_b', 'zurich_city_11_c', 'zurich_city_04_c', 'zurich_city_02_e', 'zurich_city_07_a', 'zurich_city_02_c', 'interlaken_00_c', 'zurich_city_00_a', 'zurich_city_04_d'}\n",
      "{'zurich_city_01_e', 'zurich_city_04_e', 'zurich_city_04_a', 'zurich_city_09_b', 'zurich_city_01_f'}\n"
     ]
    }
   ],
   "source": [
    "def read_josn(path):\n",
    "    with open(path, 'r') as f:\n",
    "        data = json.load(f)\n",
    "        return data\n",
    "\n",
    "def get_sequences_name(path):\n",
    "    ann_data = read_josn(path)\n",
    "\n",
    "    seq_name_set = set()\n",
    "\n",
    "    for x in ann_data['images']:\n",
    "        file_name_list = x['file_name'].split('/')\n",
    "        seq_name = file_name_list[1]\n",
    "        seq_name_set.add(seq_name)\n",
    "\n",
    "    return seq_name_set\n",
    "\n",
    "print(get_sequences_name(ann_train_path))\n",
    "print(get_sequences_name(ann_test_path))"
   ]
  },
  {
   "cell_type": "markdown",
   "metadata": {},
   "source": [
    "## Set One Info [ train | test ]"
   ]
  },
  {
   "cell_type": "code",
   "execution_count": 4,
   "metadata": {},
   "outputs": [],
   "source": [
    "# gt_mode = 'train'\n",
    "gt_mode = 'test'\n",
    "\n",
    "if gt_mode == 'train':\n",
    "    ann_path = Path(ann_train_path)\n",
    "else:\n",
    "    ann_path = Path(ann_test_path)\n",
    "\n",
    "# save_ann_file = None"
   ]
  },
  {
   "cell_type": "markdown",
   "metadata": {},
   "source": [
    "## load image pathes"
   ]
  },
  {
   "cell_type": "code",
   "execution_count": 5,
   "metadata": {},
   "outputs": [
    {
     "name": "stdout",
     "output_type": "stream",
     "text": [
      "4769\n"
     ]
    }
   ],
   "source": [
    "ann_data = read_josn(ann_path)\n",
    "\n",
    "image_path_list = []\n",
    "\n",
    "for x in ann_data['images']:\n",
    "    event_path = x['file_name']\n",
    "    \n",
    "    seq_name = event_path.split('/')[1]\n",
    "    image_path = event_path.replace('events/', 'images/').replace('event_images/', 'left/rectified/').replace('.npy', '.png')\n",
    "\n",
    "    # base = 'data/DSEC/train/'\n",
    "    # image = plt.imread(base + image_path)\n",
    "    # plt.imshow(image)\n",
    "    \n",
    "    image_path_list.append(image_path)\n",
    "\n",
    "# for debug:\n",
    "# image_path_list = image_path_list[:2]\n",
    "\n",
    "print(len(image_path_list))"
   ]
  },
  {
   "cell_type": "markdown",
   "metadata": {},
   "source": [
    "## generate label(labelme)"
   ]
  },
  {
   "cell_type": "code",
   "execution_count": 12,
   "metadata": {},
   "outputs": [
    {
     "name": "stdout",
     "output_type": "stream",
     "text": [
      "Loads checkpoint by local backend from path: detection/checkpoint/yolov8_s_mask-refine_syncbn_fast_8xb16-500e_coco_20230216_095938-ce3c1b3f.pth\n",
      "Switch model to deploy modality.\n",
      "[                                                  ] 0/2, elapsed: 0s, ETA:01/02 11:22:36 - mmengine - \u001b[5m\u001b[4m\u001b[33mWARNING\u001b[0m - \"FileClient\" will be deprecated in future. Please use io functions in https://mmengine.readthedocs.io/en/latest/api/fileio.html#file-io\n",
      "01/02 11:22:36 - mmengine - \u001b[5m\u001b[4m\u001b[33mWARNING\u001b[0m - \"HardDiskBackend\" is the alias of \"LocalBackend\" and the former will be deprecated in future.\n",
      "[>>>>>>>>>>>>>>>>>>>>>>>>>>>>>>>>>>>] 2/2, 0.4 task/s, elapsed: 5s, ETA:     0s"
     ]
    },
    {
     "name": "stderr",
     "output_type": "stream",
     "text": [
      "/home/jiangtianbin/miniconda3/envs/mmyolo/lib/python3.8/site-packages/torch/functional.py:504: UserWarning: torch.meshgrid: in an upcoming release, it will be required to pass the indexing argument. (Triggered internally at /opt/conda/conda-bld/pytorch_1682343962757/work/aten/src/ATen/native/TensorShape.cpp:3483.)\n",
      "  return _VF.meshgrid(tensors, **kwargs)  # type: ignore[attr-defined]\n"
     ]
    }
   ],
   "source": [
    "# changed from demo/image_demo.py\n",
    "\n",
    "import os\n",
    "\n",
    "import mmcv\n",
    "from mmdet.apis import inference_detector, init_detector\n",
    "from mmengine.config import Config, ConfigDict\n",
    "from mmengine.logging import print_log\n",
    "from mmengine.utils import ProgressBar, path\n",
    "\n",
    "from mmyolo.registry import VISUALIZERS\n",
    "from mmyolo.utils import switch_to_deploy\n",
    "from mmyolo.utils.labelme_utils import LabelmeFormat\n",
    "from mmyolo.utils.misc import get_file_list, show_data_classes\n",
    "\n",
    "class InferenceArgs:\n",
    "    config = 'detection/config/yolov8_s_mask-refine_syncbn_fast_8xb16-500e_coco.py'\n",
    "    checkpoint = 'detection/checkpoint/yolov8_s_mask-refine_syncbn_fast_8xb16-500e_coco_20230216_095938-ce3c1b3f.pth'\n",
    "    out_dir = 'DSEC-Soft/soft_labelme/' + gt_mode + '/'\n",
    "    img_base_dir = 'data/DSEC/train'   # NOTE: all sequences are from DSEC training data\n",
    "    device = 'cuda:0'\n",
    "    show = False   # Show the detection results\n",
    "    deploy = True   # Switch model to deployment mode\n",
    "    tta = False   # Whether to use test time augmentation\n",
    "    score_thr = 0.3   # Bbox score threshold\n",
    "    class_name = ['person', 'bicycle', 'car', 'motorcycle', 'bus', 'truck']  # in inference, retain all posible classes\n",
    "    to_labelme = True\n",
    "\n",
    "def get_model():\n",
    "    \n",
    "    if InferenceArgs.to_labelme and InferenceArgs.show:\n",
    "        raise RuntimeError('`--to-labelme` or `--show` only '\n",
    "                           'can choose one at the same time.')\n",
    "    config = InferenceArgs.config\n",
    "\n",
    "    if isinstance(config, (str, Path)):\n",
    "        config = Config.fromfile(config)\n",
    "    elif not isinstance(config, Config):\n",
    "        raise TypeError('config must be a filename or Config object, '\n",
    "                        f'but got {type(config)}')\n",
    "    if 'init_cfg' in config.model.backbone:\n",
    "        config.model.backbone.init_cfg = None\n",
    "\n",
    "    if InferenceArgs.tta:\n",
    "        assert 'tta_model' in config, 'Cannot find ``tta_model`` in config.' \\\n",
    "            \" Can't use tta !\"\n",
    "        assert 'tta_pipeline' in config, 'Cannot find ``tta_pipeline`` ' \\\n",
    "            \"in config. Can't use tta !\"\n",
    "        config.model = ConfigDict(**config.tta_model, module=config.model)\n",
    "        test_data_cfg = config.test_dataloader.dataset\n",
    "        while 'dataset' in test_data_cfg:\n",
    "            test_data_cfg = test_data_cfg['dataset']\n",
    "\n",
    "        # batch_shapes_cfg will force control the size of the output image,\n",
    "        # it is not compatible with tta.\n",
    "        if 'batch_shapes_cfg' in test_data_cfg:\n",
    "            test_data_cfg.batch_shapes_cfg = None\n",
    "        test_data_cfg.pipeline = config.tta_pipeline\n",
    "\n",
    "    # TODO: TTA mode will error if cfg_options is not set.\n",
    "    #  This is an mmdet issue and needs to be fixed later.\n",
    "    # build the model from a config file and a checkpoint file\n",
    "    model = init_detector(\n",
    "        config, InferenceArgs.checkpoint, device=InferenceArgs.device, cfg_options={})\n",
    "\n",
    "    if InferenceArgs.deploy:\n",
    "        switch_to_deploy(model)\n",
    "\n",
    "    if not InferenceArgs.show:\n",
    "        path.mkdir_or_exist(InferenceArgs.out_dir)\n",
    "\n",
    "    # get model class name\n",
    "    dataset_classes = model.dataset_meta.get('classes')\n",
    "\n",
    "    # ready for labelme format if it is needed\n",
    "    to_label_format = LabelmeFormat(classes=dataset_classes)\n",
    "\n",
    "    # check class name\n",
    "    if InferenceArgs.class_name is not None:\n",
    "        for class_name in InferenceArgs.class_name:\n",
    "            if class_name in dataset_classes:\n",
    "                continue\n",
    "            show_data_classes(dataset_classes)\n",
    "            raise RuntimeError(\n",
    "                'Expected InferenceArgs.class_name to be one of the list, '\n",
    "                f'but got \"{class_name}\"')\n",
    "        \n",
    "    return model, to_label_format\n",
    "\n",
    "def generate_gt(img_path):\n",
    "\n",
    "    result = inference_detector(model, img_path)\n",
    "\n",
    "    seq_name = img_path.split('/')[4]\n",
    "    # print(seq_name)\n",
    "    filename = seq_name + '-' + os.path.basename(img_path)\n",
    "    # print(filename)\n",
    "    out_file = os.path.join(InferenceArgs.out_dir, filename)\n",
    "\n",
    "    # Get candidate predict info with score threshold\n",
    "    pred_instances = result.pred_instances[\n",
    "        result.pred_instances.scores > InferenceArgs.score_thr]\n",
    "\n",
    "    if InferenceArgs.to_labelme:\n",
    "        # save result to labelme files\n",
    "        out_file = out_file.replace(\n",
    "            os.path.splitext(out_file)[-1], '.json')\n",
    "        to_label_format(pred_instances, result.metainfo, out_file,\n",
    "                        InferenceArgs.class_name)\n",
    "        \n",
    "\n",
    "\n",
    "model, to_label_format = get_model()\n",
    "\n",
    "progress_bar = ProgressBar(len(image_path_list))\n",
    "for path in image_path_list:\n",
    "    img_path = os.path.join(InferenceArgs.img_base_dir, path)\n",
    "    generate_gt(img_path)\n",
    "    progress_bar.update()"
   ]
  }
 ],
 "metadata": {
  "kernelspec": {
   "display_name": "Python 3.8.16 ('mmyolo')",
   "language": "python",
   "name": "python3"
  },
  "language_info": {
   "codemirror_mode": {
    "name": "ipython",
    "version": 3
   },
   "file_extension": ".py",
   "mimetype": "text/x-python",
   "name": "python",
   "nbconvert_exporter": "python",
   "pygments_lexer": "ipython3",
   "version": "3.8.18"
  },
  "orig_nbformat": 4,
  "vscode": {
   "interpreter": {
    "hash": "55a6f3b072f9fd5e96d5352508a5395337b3744a039f778743b4dfee06ea63ee"
   }
  }
 },
 "nbformat": 4,
 "nbformat_minor": 2
}
